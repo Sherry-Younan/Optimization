{
 "cells": [
  {
   "cell_type": "code",
   "execution_count": 1,
   "metadata": {},
   "outputs": [],
   "source": [
    "import numpy as np \n",
    "import matplotlib.pyplot as plt\n",
    "%matplotlib inline \n",
    "import math"
   ]
  },
  {
   "cell_type": "code",
   "execution_count": 2,
   "metadata": {},
   "outputs": [],
   "source": [
    "x=np.linspace(0,20)\n",
    "y= -1 * x + 2"
   ]
  },
  {
   "cell_type": "code",
   "execution_count": 3,
   "metadata": {},
   "outputs": [
    {
     "name": "stdout",
     "output_type": "stream",
     "text": [
      "[ 0.          0.40816327  0.81632653  1.2244898   1.63265306  2.04081633\n",
      "  2.44897959  2.85714286  3.26530612  3.67346939  4.08163265  4.48979592\n",
      "  4.89795918  5.30612245  5.71428571  6.12244898  6.53061224  6.93877551\n",
      "  7.34693878  7.75510204  8.16326531  8.57142857  8.97959184  9.3877551\n",
      "  9.79591837 10.20408163 10.6122449  11.02040816 11.42857143 11.83673469\n",
      " 12.24489796 12.65306122 13.06122449 13.46938776 13.87755102 14.28571429\n",
      " 14.69387755 15.10204082 15.51020408 15.91836735 16.32653061 16.73469388\n",
      " 17.14285714 17.55102041 17.95918367 18.36734694 18.7755102  19.18367347\n",
      " 19.59183673 20.        ]\n"
     ]
    }
   ],
   "source": [
    "print(x)"
   ]
  },
  {
   "cell_type": "code",
   "execution_count": 4,
   "metadata": {},
   "outputs": [
    {
     "name": "stdout",
     "output_type": "stream",
     "text": [
      "[  2.           1.59183673   1.18367347   0.7755102    0.36734694\n",
      "  -0.04081633  -0.44897959  -0.85714286  -1.26530612  -1.67346939\n",
      "  -2.08163265  -2.48979592  -2.89795918  -3.30612245  -3.71428571\n",
      "  -4.12244898  -4.53061224  -4.93877551  -5.34693878  -5.75510204\n",
      "  -6.16326531  -6.57142857  -6.97959184  -7.3877551   -7.79591837\n",
      "  -8.20408163  -8.6122449   -9.02040816  -9.42857143  -9.83673469\n",
      " -10.24489796 -10.65306122 -11.06122449 -11.46938776 -11.87755102\n",
      " -12.28571429 -12.69387755 -13.10204082 -13.51020408 -13.91836735\n",
      " -14.32653061 -14.73469388 -15.14285714 -15.55102041 -15.95918367\n",
      " -16.36734694 -16.7755102  -17.18367347 -17.59183673 -18.        ]\n"
     ]
    }
   ],
   "source": [
    "print(y)"
   ]
  },
  {
   "cell_type": "code",
   "execution_count": 5,
   "metadata": {},
   "outputs": [],
   "source": [
    "# Adagrad\n",
    "#epsilon\n",
    "\n",
    "eps=(math.e)**-8\n",
    "def Predict_y(theta0,theta1):\n",
    "    return theta0+theta1*x\n",
    "\n",
    "\n",
    "def CostFunc(predictedY):\n",
    "    return 0.5 * (1/m) * (np.sum((predictedY- y)**2))\n",
    "\n",
    "def GradientTheta(predictedY):\n",
    "    grad_theta0=(1/m) * np.sum(predictedY - y)\n",
    "    grad_theta1=(1/m) * np.sum((predictedY - y) * x)\n",
    "    return grad_theta0, grad_theta1\n",
    "\n",
    "\n",
    "    \n",
    "def UpdateThetas(L_R,theta0,theta1,predictedY,Vt_theta0,Vt_theta1):\n",
    "    Grad_Of_Theta0,Grad_Of_Theta1=GradientTheta(predictedY)\n",
    "    Grad_Vec = np.array([Grad_Of_Theta0,Grad_Of_Theta0])\n",
    "    \n",
    "    Vt_theta0= Vt_theta0 +  Grad_Of_Theta0**2\n",
    "    Vt_theta1= Vt_theta1 +  Grad_Of_Theta1**2\n",
    "    \n",
    "    theta_0update=theta0 - L_R* Grad_Of_Theta0/(math.sqrt(Vt_theta0) + eps)\n",
    "    theta_1update=theta1 - L_R* Grad_Of_Theta1/(math.sqrt(Vt_theta1) + eps)\n",
    "    return Grad_Vec, theta_0update, theta_1update,Vt_theta0,Vt_theta1\n",
    "\n",
    "\n",
    "\n",
    "\n",
    "def FindBestThetas(x,y,N,Max_iterations):\n",
    "    L_R=N\n",
    "    \n",
    "    \n",
    "    theta0=0\n",
    "    theta1=0\n",
    "    theta0List=[]\n",
    "    theta1List=[]\n",
    "    \n",
    "    predictedYList=[]\n",
    "    CostFunList=[]\n",
    "    iterations=0\n",
    "    Vt_theta0=0\n",
    "    Vt_theta1=0\n",
    "  \n",
    "    while (iterations < Max_iterations) :\n",
    "            \n",
    "            if iterations > 1:\n",
    "                if np.linalg.norm(grad_vec)< 10**-4:\n",
    "                    print(\"Grad condition stopped the iterations\")\n",
    "                    break\n",
    "                elif abs(CostFunList[iterations-1]- CostFunList[iterations-2])< 10**-4:\n",
    "                    print(\"cost condition stoppped the iterations\")\n",
    "                    break\n",
    "            \n",
    "        \n",
    "            theta0List.append(theta0)\n",
    "            theta1List.append(theta1)\n",
    "            \n",
    "            predictedY= Predict_y(theta0,theta1)\n",
    "            predictedYList.append(predictedY)\n",
    "            \n",
    "            Jcost1=CostFunc(predictedY)\n",
    "            CostFunList.append(Jcost1)\n",
    "            \n",
    "            grad_vec, theta0,theta1,Vt_theta0,Vt_theta1= UpdateThetas(L_R,theta0,theta1,predictedY,Vt_theta0,Vt_theta1)\n",
    "            #print(grad_vec[0])\n",
    "            \n",
    "            iterations+=1\n",
    "            \n",
    "            \n",
    "    return theta0List,theta1List,CostFunList,predictedYList,theta0,theta1,iterations\n",
    "        \n",
    "\n"
   ]
  },
  {
   "cell_type": "code",
   "execution_count": 6,
   "metadata": {},
   "outputs": [
    {
     "name": "stdout",
     "output_type": "stream",
     "text": [
      "cost condition stoppped the iterations\n",
      "BestTheta0: 0.8629583025322987\n",
      "BestTheta1: -0.913522073491329\n",
      "2887\n"
     ]
    }
   ],
   "source": [
    "#N=Learning_rate=L_R\n",
    "N=0.05\n",
    "\n",
    "m=len(y)\n",
    "\n",
    "Max_iterations=5000\n",
    "\n",
    "Theta0_List,Theta1_List,Cost_List,predictedY_List,BestTheta0,BestTheta1,iterationsDone= FindBestThetas(x,y,N,Max_iterations)\n",
    "BestYPredicted= Predict_y(BestTheta0,BestTheta1)\n",
    "\n",
    "print(\"BestTheta0:\",BestTheta0)\n",
    "print(\"BestTheta1:\",BestTheta1)\n",
    "\n",
    "print(iterationsDone)"
   ]
  },
  {
   "cell_type": "code",
   "execution_count": 7,
   "metadata": {},
   "outputs": [
    {
     "data": {
      "text/plain": [
       "0.9903849713019287"
      ]
     },
     "execution_count": 7,
     "metadata": {},
     "output_type": "execute_result"
    }
   ],
   "source": [
    "from sklearn.metrics import r2_score\n",
    "\n",
    "r2_score(y,BestYPredicted)"
   ]
  },
  {
   "cell_type": "code",
   "execution_count": 8,
   "metadata": {},
   "outputs": [
    {
     "data": {
      "text/plain": [
       "[<matplotlib.lines.Line2D at 0x16ddf128100>]"
      ]
     },
     "execution_count": 8,
     "metadata": {},
     "output_type": "execute_result"
    },
    {
     "data": {
      "image/png": "[encoded data removed]",
      "text/plain": [
       "<Figure size 432x288 with 1 Axes>"
      ]
     },
     "metadata": {
      "needs_background": "light"
     },
     "output_type": "display_data"
    }
   ],
   "source": [
    "plt.plot(range(0,iterationsDone),Cost_List)"
   ]
  },
  {
   "cell_type": "code",
   "execution_count": 9,
   "metadata": {},
   "outputs": [
    {
     "data": {
      "text/plain": [
       "[<matplotlib.lines.Line2D at 0x16de03e7910>]"
      ]
     },
     "execution_count": 9,
     "metadata": {},
     "output_type": "execute_result"
    },
    {
     "data": {
      "image/png": "[encoded data removed]",
      "text/plain": [
       "<Figure size 432x288 with 1 Axes>"
      ]
     },
     "metadata": {
      "needs_background": "light"
     },
     "output_type": "display_data"
    }
   ],
   "source": [
    "plt.plot(Theta0_List,Cost_List)"
   ]
  },
  {
   "cell_type": "code",
   "execution_count": 10,
   "metadata": {},
   "outputs": [
    {
     "data": {
      "image/png": "[encoded data removed]",
      "text/plain": [
       "<Figure size 432x288 with 1 Axes>"
      ]
     },
     "metadata": {
      "needs_background": "light"
     },
     "output_type": "display_data"
    }
   ],
   "source": [
    "plt.plot(Theta1_List,Cost_List)\n",
    "plt.show()"
   ]
  },
  {
   "cell_type": "code",
   "execution_count": 11,
   "metadata": {},
   "outputs": [
    {
     "data": {
      "text/plain": [
       "[<matplotlib.lines.Line2D at 0x16de0472eb0>]"
      ]
     },
     "execution_count": 11,
     "metadata": {},
     "output_type": "execute_result"
    },
    {
     "data": {
      "image/png": "[encoded data removed]",
      "text/plain": [
       "<Figure size 432x288 with 1 Axes>"
      ]
     },
     "metadata": {
      "needs_background": "light"
     },
     "output_type": "display_data"
    }
   ],
   "source": [
    "plt.scatter(x,y)\n",
    "plt.plot(x,BestYPredicted,'r')"
   ]
  },
  {
   "cell_type": "code",
   "execution_count": 13,
   "metadata": {},
   "outputs": [],
   "source": [
    "#**********************************************RMSprop*********************************************************************\n",
    "#**************************************************************************************************************************"
   ]
  },
  {
   "cell_type": "code",
   "execution_count": 13,
   "metadata": {},
   "outputs": [],
   "source": [
    "\n",
    "#epsilon\n",
    "eps=(math.e)**-8\n",
    "#beta\n",
    "B=0.9\n",
    "\n",
    "def Predict_y(theta0,theta1):\n",
    "    return theta0+theta1*x\n",
    "\n",
    "\n",
    "def CostFunc(predictedY):\n",
    "    return 0.5 * (1/m) * (np.sum((predictedY- y)**2))\n",
    "\n",
    "def GradientTheta(predictedY):\n",
    "    grad_theta0=(1/m) * np.sum(predictedY - y)\n",
    "    grad_theta1=(1/m) * np.sum((predictedY - y) * x)\n",
    "    return grad_theta0, grad_theta1\n",
    "\n",
    "\n",
    "    \n",
    "def UpdateThetas(L_R,theta0,theta1,predictedY,Vt_theta0,Vt_theta1):\n",
    "    Grad_Of_Theta0,Grad_Of_Theta1=GradientTheta(predictedY)\n",
    "    Grad_Vec = np.array([Grad_Of_Theta0,Grad_Of_Theta0])\n",
    "    \n",
    "    Vt_theta0= B * Vt_theta0 + (1-B) * Grad_Of_Theta0**2\n",
    "    \n",
    "    Vt_theta1= B * Vt_theta1 + (1-B) * Grad_Of_Theta1**2\n",
    "    \n",
    "    theta_0update=theta0 - L_R* Grad_Of_Theta0/(math.sqrt(Vt_theta0) + eps)\n",
    "    theta_1update=theta1 - L_R* Grad_Of_Theta1/(math.sqrt(Vt_theta1) + eps)\n",
    "    return Grad_Vec, theta_0update, theta_1update,Vt_theta0,Vt_theta1\n",
    "\n",
    "\n",
    "\n",
    "def FindBestThetas(x,y,N,Max_iterations):\n",
    "    L_R=N\n",
    "    \n",
    "    \n",
    "    theta0=0\n",
    "    theta1=0\n",
    "    theta0List=[]\n",
    "    theta1List=[]\n",
    "    \n",
    "    predictedYList=[]\n",
    "    CostFunList=[]\n",
    "    iterations=0\n",
    "    Vt_theta0=0\n",
    "    Vt_theta1=0\n",
    "  \n",
    "    while (iterations < Max_iterations) :\n",
    "            \n",
    "            if iterations > 1:\n",
    "                if np.linalg.norm(grad_vec)< 10**-4:\n",
    "                    print(\"Grad condition stopped the iterations\")\n",
    "                    break\n",
    "                elif abs(CostFunList[iterations-1]- CostFunList[iterations-2])< 10**-4:\n",
    "                    print(\"cost condition stoppped the iterations\")\n",
    "                    break\n",
    "            \n",
    "        \n",
    "            theta0List.append(theta0)\n",
    "            theta1List.append(theta1)\n",
    "            \n",
    "            predictedY= Predict_y(theta0,theta1)\n",
    "            predictedYList.append(predictedY)\n",
    "            \n",
    "            Jcost1=CostFunc(predictedY)\n",
    "            CostFunList.append(Jcost1)\n",
    "            \n",
    "            grad_vec, theta0,theta1,Vt_theta0,Vt_theta1= UpdateThetas(L_R,theta0,theta1,predictedY,Vt_theta0,Vt_theta1)\n",
    "            \n",
    "            \n",
    "            iterations+=1\n",
    "            \n",
    "            \n",
    "    return theta0List,theta1List,CostFunList,predictedYList,theta0,theta1,iterations\n",
    "        \n",
    "\n"
   ]
  },
  {
   "cell_type": "code",
   "execution_count": 14,
   "metadata": {},
   "outputs": [
    {
     "name": "stdout",
     "output_type": "stream",
     "text": [
      "cost condition stoppped the iterations\n",
      "BestTheta0: 1.6023350307404192\n",
      "BestTheta1: -0.9709357625833364\n",
      "3062\n"
     ]
    }
   ],
   "source": [
    "N=0.001\n",
    "m=len(y)\n",
    "\n",
    "Max_iterations=5000\n",
    "\n",
    "Theta0_List,Theta1_List,Cost_List,predictedY_List,BestTheta0,BestTheta1,iterationsDone= FindBestThetas(x,y,N,Max_iterations)\n",
    "BestYPredicted= Predict_y(BestTheta0,BestTheta1)\n",
    "\n",
    "print(\"BestTheta0:\",BestTheta0)\n",
    "print(\"BestTheta1:\",BestTheta1)\n",
    "\n",
    "print(iterationsDone)"
   ]
  },
  {
   "cell_type": "code",
   "execution_count": 15,
   "metadata": {},
   "outputs": [
    {
     "data": {
      "text/plain": [
       "0.9988251301285872"
      ]
     },
     "execution_count": 15,
     "metadata": {},
     "output_type": "execute_result"
    }
   ],
   "source": [
    "from sklearn.metrics import r2_score\n",
    "\n",
    "r2_score(y,BestYPredicted)"
   ]
  },
  {
   "cell_type": "code",
   "execution_count": 16,
   "metadata": {},
   "outputs": [
    {
     "data": {
      "text/plain": [
       "[<matplotlib.lines.Line2D at 0x16dddd9ea00>]"
      ]
     },
     "execution_count": 16,
     "metadata": {},
     "output_type": "execute_result"
    },
    {
     "data": {
      "image/png": "[encoded data removed]",
      "text/plain": [
       "<Figure size 432x288 with 1 Axes>"
      ]
     },
     "metadata": {
      "needs_background": "light"
     },
     "output_type": "display_data"
    }
   ],
   "source": [
    "plt.plot(range(0,iterationsDone),Cost_List)"
   ]
  },
  {
   "cell_type": "code",
   "execution_count": 17,
   "metadata": {},
   "outputs": [
    {
     "data": {
      "text/plain": [
       "[<matplotlib.lines.Line2D at 0x16de3459d30>]"
      ]
     },
     "execution_count": 17,
     "metadata": {},
     "output_type": "execute_result"
    },
    {
     "data": {
      "image/png": "[encoded data removed]",
      "text/plain": [
       "<Figure size 432x288 with 1 Axes>"
      ]
     },
     "metadata": {
      "needs_background": "light"
     },
     "output_type": "display_data"
    }
   ],
   "source": [
    "plt.plot(Theta0_List,Cost_List)"
   ]
  },
  {
   "cell_type": "code",
   "execution_count": 18,
   "metadata": {},
   "outputs": [
    {
     "data": {
      "image/png": "[encoded data removed]",
      "text/plain": [
       "<Figure size 432x288 with 1 Axes>"
      ]
     },
     "metadata": {
      "needs_background": "light"
     },
     "output_type": "display_data"
    }
   ],
   "source": [
    "plt.plot(Theta1_List,Cost_List)\n",
    "plt.show()"
   ]
  },
  {
   "cell_type": "code",
   "execution_count": 19,
   "metadata": {},
   "outputs": [
    {
     "data": {
      "text/plain": [
       "[<matplotlib.lines.Line2D at 0x16de357ebb0>]"
      ]
     },
     "execution_count": 19,
     "metadata": {},
     "output_type": "execute_result"
    },
    {
     "data": {
      "image/png": "[encoded data removed]",
      "text/plain": [
       "<Figure size 432x288 with 1 Axes>"
      ]
     },
     "metadata": {
      "needs_background": "light"
     },
     "output_type": "display_data"
    }
   ],
   "source": [
    "plt.scatter(x,y)\n",
    "plt.plot(x,BestYPredicted,'r')"
   ]
  },
  {
   "cell_type": "code",
   "execution_count": 81,
   "metadata": {},
   "outputs": [],
   "source": [
    "#***************************************************Adam**************************************************************************\n",
    "#*********************************************************************************************************************************"
   ]
  },
  {
   "cell_type": "code",
   "execution_count": 20,
   "metadata": {},
   "outputs": [],
   "source": [
    "#epsilon\n",
    "eps=(math.e)**-8\n",
    "#beta B1=BO and B2=BT\n",
    "BO=0.9\n",
    "BT=0.999\n",
    "\n",
    "def Predict_y(theta0,theta1):\n",
    "    return theta0+theta1*x\n",
    "\n",
    "\n",
    "def CostFunc(predictedY):\n",
    "    return 0.5 * (1/m) * (np.sum((predictedY- y)**2))\n",
    "\n",
    "#return Grad_Theta0,Grad_Theta1\n",
    "def GradientTheta(predictedY):\n",
    "    grad_theta0=(1/m) * np.sum(predictedY - y)\n",
    "    grad_theta1=(1/m) * np.sum((predictedY - y) * x)\n",
    "    return grad_theta0, grad_theta1\n",
    "\n",
    "\n",
    "    \n",
    "def UpdateThetas(i,L_R,theta0,theta1,predictedY,Vt_theta0,Vt_theta1,mt_theta0,mt_theta1,iterations):\n",
    "    Grad_Of_Theta0,Grad_Of_Theta1=GradientTheta(predictedY)\n",
    "    Grad_Vec = np.array([Grad_Of_Theta0,Grad_Of_Theta0])\n",
    "    \n",
    "    #the vt+1 =vt_update and mt+1 = mt_update\n",
    "    Vt_theta0= BT * Vt_theta0 + (1-BT) * Grad_Of_Theta0**2\n",
    "    Vt_theta1= BT * Vt_theta1 + (1-BT) * Grad_Of_Theta1**2\n",
    "    \n",
    "    \n",
    "    mt_theta0= BO * mt_theta0 + (1-BO) * Grad_Of_Theta0\n",
    "    mt_theta1= BO * mt_theta1 + (1-BO) * Grad_Of_Theta1\n",
    "    \n",
    "    #Bias correction for each Vt_update and mt_update\n",
    "    Vt_theta0_cor= Vt_theta0 / (1- (BT**i))\n",
    "    Vt_theta1_cor= Vt_theta1 / (1- (BT**i))\n",
    "    \n",
    "    mt_theta0_cor= mt_theta0 / (1- (BO**i))\n",
    "    mt_theta1_cor= mt_theta1 / (1- (BO**i))\n",
    "    \n",
    "    \n",
    "    theta_0update= theta0 - ( (L_R * mt_theta0_cor) /  (math.sqrt(Vt_theta0_cor) + eps))\n",
    "    theta_1update= theta1 - ( (L_R * mt_theta1_cor) / (math.sqrt(Vt_theta1_cor) + eps))\n",
    "    return Grad_Vec, theta_0update, theta_1update,Vt_theta0,Vt_theta1,mt_theta0,mt_theta1\n",
    "\n",
    "\n",
    "\n",
    "#Gradient_Descent\n",
    "def FindBestThetas(x,y,N,Max_iterations):\n",
    "    L_R=N\n",
    "    \n",
    "    \n",
    "    theta0=0\n",
    "    theta1=0\n",
    "    theta0List=[]\n",
    "    theta1List=[]\n",
    "    \n",
    "    predictedYList=[]\n",
    "    CostFunList=[]\n",
    "    iterations=0\n",
    "    i=1\n",
    "    Vt_theta0=0\n",
    "    Vt_theta1=0\n",
    "    mt_theta0=0\n",
    "    mt_theta1=0\n",
    "  \n",
    "    while (iterations < Max_iterations) :\n",
    "            \n",
    "            if iterations > 1:\n",
    "                if np.linalg.norm(grad_vec)< 10**-4:\n",
    "                    print(\"Grad condition stopped the iterations\")\n",
    "                    break\n",
    "                elif abs(CostFunList[iterations-1]- CostFunList[iterations-2])< 10**-6:\n",
    "                    print(\"cost condition stoppped the iterations\")\n",
    "                    break\n",
    "            \n",
    "            \n",
    "            theta0List.append(theta0)\n",
    "            theta1List.append(theta1)\n",
    "            \n",
    "            predictedY= Predict_y(theta0,theta1)\n",
    "            predictedYList.append(predictedY)\n",
    "            \n",
    "            Jcost1=CostFunc(predictedY)\n",
    "            CostFunList.append(Jcost1)\n",
    "            \n",
    "            grad_vec,theta0,theta1,Vt_theta0,Vt_theta1,mt_theta0,mt_theta1= UpdateThetas(i,L_R,theta0,theta1,predictedY,Vt_theta0,Vt_theta1,mt_theta0,mt_theta1,iterations)\n",
    "            \n",
    "            i+=1\n",
    "            iterations+=1\n",
    "\n",
    "            \n",
    "    return theta0List,theta1List,CostFunList,predictedYList,theta0,theta1,iterations\n",
    "        \n",
    "\n"
   ]
  },
  {
   "cell_type": "code",
   "execution_count": 21,
   "metadata": {},
   "outputs": [
    {
     "name": "stdout",
     "output_type": "stream",
     "text": [
      "BestTheta0: 0.826242624191489\n",
      "BestTheta1: -0.9110580052321694\n",
      "5000\n"
     ]
    }
   ],
   "source": [
    "N=0.001\n",
    "m=len(y)\n",
    "\n",
    "Max_iterations=5000\n",
    "\n",
    "Theta0_List,Theta1_List,Cost_List,predictedY_List,BestTheta0,BestTheta1,iterationsDone= FindBestThetas(x,y,N,Max_iterations)\n",
    "BestYPredicted= Predict_y(BestTheta0,BestTheta1)\n",
    "\n",
    "print(\"BestTheta0:\",BestTheta0)\n",
    "print(\"BestTheta1:\",BestTheta1)\n",
    "\n",
    "print(iterationsDone)"
   ]
  },
  {
   "cell_type": "code",
   "execution_count": 22,
   "metadata": {},
   "outputs": [
    {
     "data": {
      "text/plain": [
       "0.989759003402749"
      ]
     },
     "execution_count": 22,
     "metadata": {},
     "output_type": "execute_result"
    }
   ],
   "source": [
    "from sklearn.metrics import r2_score\n",
    "\n",
    "r2_score(y,BestYPredicted)"
   ]
  },
  {
   "cell_type": "code",
   "execution_count": 23,
   "metadata": {},
   "outputs": [
    {
     "data": {
      "text/plain": [
       "[<matplotlib.lines.Line2D at 0x16de36bb820>]"
      ]
     },
     "execution_count": 23,
     "metadata": {},
     "output_type": "execute_result"
    },
    {
     "data": {
      "image/png": "[encoded data removed]",
      "text/plain": [
       "<Figure size 432x288 with 1 Axes>"
      ]
     },
     "metadata": {
      "needs_background": "light"
     },
     "output_type": "display_data"
    }
   ],
   "source": [
    "plt.plot(range(0,iterationsDone),Cost_List)"
   ]
  },
  {
   "cell_type": "code",
   "execution_count": 24,
   "metadata": {},
   "outputs": [
    {
     "data": {
      "text/plain": [
       "[<matplotlib.lines.Line2D at 0x16de3554550>]"
      ]
     },
     "execution_count": 24,
     "metadata": {},
     "output_type": "execute_result"
    },
    {
     "data": {
      "image/png": "[encoded data removed]",
      "text/plain": [
       "<Figure size 432x288 with 1 Axes>"
      ]
     },
     "metadata": {
      "needs_background": "light"
     },
     "output_type": "display_data"
    }
   ],
   "source": [
    "plt.plot(Theta0_List,Cost_List)"
   ]
  },
  {
   "cell_type": "code",
   "execution_count": 25,
   "metadata": {},
   "outputs": [
    {
     "data": {
      "image/png": "[encoded data removed]",
      "text/plain": [
       "<Figure size 432x288 with 1 Axes>"
      ]
     },
     "metadata": {
      "needs_background": "light"
     },
     "output_type": "display_data"
    }
   ],
   "source": [
    "plt.plot(Theta1_List,Cost_List)\n",
    "plt.show()"
   ]
  },
  {
   "cell_type": "code",
   "execution_count": 26,
   "metadata": {},
   "outputs": [
    {
     "data": {
      "text/plain": [
       "[<matplotlib.lines.Line2D at 0x16de3740bb0>]"
      ]
     },
     "execution_count": 26,
     "metadata": {},
     "output_type": "execute_result"
    },
    {
     "data": {
      "image/png": "[encoded data removed]",
      "text/plain": [
       "<Figure size 432x288 with 1 Axes>"
      ]
     },
     "metadata": {
      "needs_background": "light"
     },
     "output_type": "display_data"
    }
   ],
   "source": [
    "plt.scatter(x,y)\n",
    "plt.plot(x,BestYPredicted,'r')"
   ]
  },
  {
   "cell_type": "code",
   "execution_count": null,
   "metadata": {},
   "outputs": [],
   "source": []
  }
 ],
 "metadata": {
  "kernelspec": {
   "display_name": "Python 3",
   "language": "python",
   "name": "python3"
  },
  "language_info": {
   "codemirror_mode": {
    "name": "ipython",
    "version": 3
   },
   "file_extension": ".py",
   "mimetype": "text/x-python",
   "name": "python",
   "nbconvert_exporter": "python",
   "pygments_lexer": "ipython3",
   "version": "3.8.5"
  }
 },
 "nbformat": 4,
 "nbformat_minor": 4
}
